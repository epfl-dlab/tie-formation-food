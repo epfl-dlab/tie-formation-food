{
 "cells": [
  {
   "cell_type": "code",
   "execution_count": 1,
   "metadata": {
    "collapsed": true
   },
   "outputs": [],
   "source": [
    "import pandas as pd\n",
    "import sqlite3 as sq\n",
    "import numpy as np\n",
    "import matplotlib.pyplot as plt\n",
    "import seaborn as sns\n",
    "import warnings, re\n",
    "import nltk\n",
    "from IPython.display import Image\n",
    "import datetime\n",
    "from collections import Counter\n",
    "warnings.filterwarnings('ignore')\n",
    "%matplotlib inline\n",
    "pd.set_option('display.max_columns', 500)\n",
    "pd.set_option('display.max_rows', 1000)\n",
    "from sklearn.decomposition import NMF\n",
    "from scipy import stats\n",
    "from sklearn.metrics import explained_variance_score\n",
    "from pylab import rcParams\n",
    "from collections import Counter\n",
    "import scipy as sp\n",
    "from scipy.spatial import distance\n",
    "from sklearn.preprocessing import OneHotEncoder\n",
    "from sklearn.linear_model import LogisticRegression\n",
    "from sklearn import preprocessing\n",
    "import networkx as nx\n",
    "from sklearn import metrics\n",
    "from sklearn.metrics import precision_recall_fscore_support\n",
    "from sklearn.preprocessing import StandardScaler\n",
    "from sklearn.tree import DecisionTreeClassifier\n",
    "from sklearn.ensemble import RandomForestClassifier\n",
    "import statsmodels.formula.api as smf\n",
    "from sklearn.linear_model import LogisticRegression\n",
    "from sklearn import preprocessing\n",
    "import networkx as nx\n",
    "from sklearn import metrics\n",
    "from sklearn.metrics import precision_recall_fscore_support\n",
    "from sklearn.preprocessing import StandardScaler"
   ]
  },
  {
   "cell_type": "markdown",
   "metadata": {},
   "source": [
    "### 1. Load the dataset containing person IDs of the studied pairs"
   ]
  },
  {
   "cell_type": "code",
   "execution_count": 2,
   "metadata": {
    "collapsed": true
   },
   "outputs": [],
   "source": [
    "pairs = pd.read_pickle('new_pairs_all_rests')\n",
    "\n",
    "df_pairs_frequencies = pd.DataFrame(pd.Series(pairs.index).apply(lambda x: x.split(' ')))\n",
    "df_pairs_frequencies['frequency'] = pairs.values\n",
    "\n",
    "cohort = df_pairs_frequencies.loc[(df_pairs_frequencies['frequency']>= 10)].copy() \n",
    "\n",
    "cohort.columns = ['pair','frequency']\n",
    "\n",
    "tmp = cohort['frequency'].values\n",
    "\n",
    "Ns = []\n",
    "for i in tmp:\n",
    "    Ns.extend([i, i])"
   ]
  },
  {
   "cell_type": "markdown",
   "metadata": {},
   "source": [
    "### 2. Load the derived dataframe with persons' pre-processed features"
   ]
  },
  {
   "cell_type": "code",
   "execution_count": 3,
   "metadata": {
    "collapsed": true
   },
   "outputs": [],
   "source": [
    "df_participants = pd.read_pickle(\"df_focal_persons.pkl\")\n",
    "df_participants['N'] = Ns"
   ]
  },
  {
   "cell_type": "markdown",
   "metadata": {},
   "source": [
    "### 3. Keep only persons with a single partner"
   ]
  },
  {
   "cell_type": "code",
   "execution_count": 4,
   "metadata": {
    "collapsed": true
   },
   "outputs": [],
   "source": [
    "df_participants_single = df_participants.groupby(\"ID\").filter(lambda x: len(x) == 1)"
   ]
  },
  {
   "cell_type": "code",
   "execution_count": 5,
   "metadata": {},
   "outputs": [
    {
     "data": {
      "text/plain": [
       "42720"
      ]
     },
     "execution_count": 5,
     "metadata": {},
     "output_type": "execute_result"
    }
   ],
   "source": [
    "len(df_participants)"
   ]
  },
  {
   "cell_type": "code",
   "execution_count": 6,
   "metadata": {},
   "outputs": [
    {
     "data": {
      "text/plain": [
       "5039"
      ]
     },
     "execution_count": 6,
     "metadata": {},
     "output_type": "execute_result"
    }
   ],
   "source": [
    "len(df_participants_single)"
   ]
  },
  {
   "cell_type": "markdown",
   "metadata": {},
   "source": [
    "### 4. Do the matching\n",
    "\n",
    "### a) first pass: generate potential persons for fitting propensity scores. Here we check the range of malanhobis distance which is important for normalization"
   ]
  },
  {
   "cell_type": "code",
   "execution_count": 7,
   "metadata": {
    "collapsed": true
   },
   "outputs": [],
   "source": [
    "VI = np.linalg.inv(pd.DataFrame(np.array([df_participants_single[\"meals_percentage\"].apply(np.nanmean).values,\n",
    "df_participants_single[\"lunchtime_percentage\"].apply(np.nanmean).values,\n",
    "df_participants_single[\"transactions_per_month\"].apply(np.nanmean).values]).T).cov())"
   ]
  },
  {
   "cell_type": "code",
   "execution_count": 8,
   "metadata": {},
   "outputs": [
    {
     "name": "stdout",
     "output_type": "stream",
     "text": [
      "500/5039\n",
      "1000/5039\n",
      "1500/5039\n",
      "2000/5039\n",
      "2500/5039\n",
      "3000/5039\n",
      "3500/5039\n",
      "4000/5039\n",
      "4500/5039\n",
      "5000/5039\n"
     ]
    }
   ],
   "source": [
    "#iterate through all who start with someone who has positive score.\n",
    "#match with similar people, but start\n",
    "#   -at the same time (in the same month)\n",
    "#   -with someone with a negative score\n",
    "\n",
    "\n",
    "count = 0\n",
    "\n",
    "#check the range of malanhobis distance, this is needed to convert distance to similarity\n",
    "malanhobis_dist = []\n",
    "\n",
    "#extract features control and treated used to fit propensities\n",
    "\n",
    "X_treated_high = []\n",
    "X_treated_low = []\n",
    "\n",
    "for i in range(len(df_participants_single)):\n",
    "\n",
    "    count +=1\n",
    "    if count % 500 == 0:\n",
    "        print(str(count)+'/'+str(len(df_participants_single)))\n",
    "    \n",
    "    #isolate focals who start with a positive partner\n",
    "    #find all possible matched focals who start with a negative partner\n",
    "    if df_participants_single.iloc[i][\"partner_score_pre_treatment\"] >= 0.05 and df_participants_single.iloc[i][\"N\"]>=10:\n",
    "\n",
    "        scores = df_participants_single.iloc[i][\"monthly_scores\"]\n",
    "\n",
    "        start = int(df_participants_single.iloc[i][\"start_treatment\"])\n",
    "        \n",
    "        #6 months pre-treatment\n",
    "        #6 months post-treatment\n",
    "        avg_pre = np.nanmean(scores[start-5:start+1])\n",
    "        avg_post = np.nanmean(scores[start+1:start+7])\n",
    "\n",
    "        months_pre = np.array(range(len(scores)))[start-5:start+1]\n",
    "        months_post = np.array(range(len(scores)))[start+1:start+7]\n",
    "\n",
    "        if np.isnan(avg_pre):\n",
    "            continue\n",
    "\n",
    "        if len(stats.mode([t[0] for t in df_participants_single.iloc[i][\"shops\"][start-5:start+1] if t[0]!=110], axis = None)[0]) == 0:\n",
    "            continue\n",
    "\n",
    "        shop_treated = stats.mode([t[0] for t in df_participants_single.iloc[i][\"shops\"][start-5:start+1] if t[0]!=110], axis = None)[0][0]\n",
    "\n",
    "\n",
    "        #filters\n",
    "        potential_controls = df_participants_single.loc[\n",
    "            #take into account everyone except for them\n",
    "            (df_participants_single[\"ID\"]!= df_participants_single.iloc[i][\"ID\"]) & \n",
    "            #find people that have the intervention in the same month\n",
    "            (df_participants_single[\"start_treatment\"] == start) &\n",
    "            #keep potential whose partner has negative score\n",
    "            (df_participants_single[\"partner_score_pre_treatment\"] <=-0.05) &\n",
    "            #and they also have tie\n",
    "            (df_participants_single[\"N\"] >=10) &\n",
    "            #and they made some purcahses in the same period\n",
    "            (~(df_participants_single[\"monthly_scores\"].apply(lambda x : x[start-5:start+1]).apply(np.nanmean).apply(np.isnan)))\n",
    "        ].copy(deep =True)\n",
    "\n",
    "\n",
    "        #do an exact match on the most frequent shop they go to\n",
    "        potential_controls = potential_controls.loc[potential_controls[\"shops\"] \\\n",
    "              .apply(lambda x : x[start-5:start+1]).apply(lambda x: stats.mode([t[0] for t in x if t[0]!=110], axis = None)[0][0])\n",
    "              .apply(lambda x: x == shop_treated)]\n",
    "\n",
    "        #do an exact match on the initial h-score\n",
    "        potential_controls = potential_controls.loc[potential_controls[\"monthly_scores\"] \\\n",
    "              .apply(lambda x : x[start-5:start+1]).apply(np.nanmean) \\\n",
    "              .apply(lambda x: np.absolute(avg_pre - x)<=0.2)]\n",
    "\n",
    "\n",
    "        if len(potential_controls)!=0:\n",
    "\n",
    "            #pre-treatment h-score for controls\n",
    "            h_scores = (potential_controls[\"monthly_scores\"].apply(lambda x : x[start-5:start+1]).apply(np.nanmean)).values\n",
    "\n",
    "            #pre-treatment percentage meals for controls\n",
    "            meals = (potential_controls[\"meals_percentage\"].apply(lambda x : x[start-5:start+1]).apply(np.nanmean)).values\n",
    "\n",
    "            #pre-treatment percentage lunchtime for controls\n",
    "            lunchtime = (potential_controls[\"lunchtime_percentage\"].apply(lambda x : x[start-5:start+1]).apply(np.nanmean)).values\n",
    "\n",
    "            #pre_treatment transactions per month for controls\n",
    "            number = (potential_controls[\"transactions_per_month\"].apply(lambda x : x[start-5:start+1]).apply(np.nanmean)).values\n",
    "\n",
    "            #pre_treatment most frequent shop for controls\n",
    "            shop = (potential_controls[\"shops\"].apply(lambda x : x[start-5:start+1]).apply(lambda x: stats.mode([t[0] for t in x if t[0]!=110], axis = None)[0][0])).values\n",
    "\n",
    "\n",
    "            X_c = np.concatenate((shop.reshape(len(h_scores),1),\n",
    "                               meals.reshape(len(h_scores),1),\n",
    "                               lunchtime.reshape(len(h_scores),1),\n",
    "                               number.reshape(len(h_scores),1),\n",
    "                               h_scores.reshape(len(h_scores),1)),axis = 1)\n",
    "\n",
    "            X_treated_low.append(X_c)\n",
    "\n",
    "            X_treated_high.append([shop_treated,np.nanmean(df_participants_single.iloc[i][\"meals_percentage\"][start-5:start+1]),\n",
    "                   np.nanmean(df_participants_single.iloc[i][\"lunchtime_percentage\"][start-5:start+1]),\n",
    "                   np.nanmean(df_participants_single.iloc[i][\"transactions_per_month\"][start-5:start+1]),\n",
    "                   avg_pre])\n",
    "\n",
    "\n",
    "            for c in X_c:\n",
    "                malanhobis_dist.append((distance.mahalanobis(c[1:-1],np.array(X_treated_high[-1])[1:-1],VI)))"
   ]
  },
  {
   "cell_type": "code",
   "execution_count": 9,
   "metadata": {},
   "outputs": [
    {
     "name": "stdout",
     "output_type": "stream",
     "text": [
      "0.8729834089554974\n"
     ]
    }
   ],
   "source": [
    "#create X and y matrices\n",
    "Y = ([1]*len(X_treated_high)) + ([0]*len(np.concatenate(X_treated_low,axis = 0)))\n",
    "X = np.concatenate((np.array(X_treated_high), np.concatenate(X_treated_low,axis = 0)))\n",
    "\n",
    "#initialize the encoder\n",
    "enc = OneHotEncoder(handle_unknown='ignore')\n",
    "#initialize the scaler\n",
    "scaler = StandardScaler()\n",
    "\n",
    "#fit the encoder and transform\n",
    "X = np.concatenate((enc.fit_transform(X[:,0].reshape(-1, 1)).toarray(), X[:,1:]), axis = 1)\n",
    "\n",
    "#fit the scaler\n",
    "scaler.fit(X)\n",
    "\n",
    "#fit the model\n",
    "clf = RandomForestClassifier(random_state=0 , n_estimators = 15, max_depth = 10, class_weight='balanced').fit(scaler.transform(X), Y)\n",
    "\n",
    "auc = []\n",
    "\n",
    "for i in range(1,100):\n",
    "    fpr, tpr, thresholds = metrics.roc_curve(Y, [1 if i else 0 for i in clf.predict_proba(scaler.transform(X))[:,1]>i/100])\n",
    "    auc.append(metrics.auc(fpr, tpr))\n",
    "    \n",
    "fpr, tpr, thresholds = metrics.roc_curve(Y, \\\n",
    "                [1 if i else 0 for i in clf.predict_proba(scaler.transform(X))[:,1]>range(1,100)[np.argmax(auc)]/100])\n",
    "print(metrics.auc(fpr, tpr))"
   ]
  },
  {
   "cell_type": "code",
   "execution_count": 10,
   "metadata": {
    "collapsed": true
   },
   "outputs": [],
   "source": [
    "import matplotlib.pyplot as plt\n",
    "plt.rcParams.update({'font.size': 12})"
   ]
  },
  {
   "cell_type": "code",
   "execution_count": 43,
   "metadata": {
    "collapsed": true
   },
   "outputs": [],
   "source": [
    "import matplotlib\n",
    "matplotlib.rcParams['pdf.fonttype'] = 42\n",
    "matplotlib.rcParams['ps.fonttype'] = 42"
   ]
  },
  {
   "cell_type": "code",
   "execution_count": 44,
   "metadata": {},
   "outputs": [
    {
     "data": {
      "image/png": "[encoded data removed]",
      "text/plain": [
       "<Figure size 432x288 with 1 Axes>"
      ]
     },
     "metadata": {
      "needs_background": "light"
     },
     "output_type": "display_data"
    }
   ],
   "source": [
    "n,bins,parches = plt.hist(clf.predict_proba(scaler.transform(X))[:,1], range = [0,1],bins = 50);\n",
    "plt.close()\n",
    "\n",
    "plt.bar(range(len(n)),n, width = 0.8, alpha = 0.7)\n",
    "plt.xticks(range(len(n))[::10],bins[:-1][::10])\n",
    "plt.xlabel('Propensity to start eating with a \\nperson with a high healthiness score')\n",
    "plt.ylabel('Number of persons, \\nbefore matching')\n",
    "\n",
    "plt.ylim([0,500])\n",
    "\n",
    "plt.savefig(\"fig_matching1.pdf\", bbox_inches='tight')"
   ]
  },
  {
   "cell_type": "code",
   "execution_count": 12,
   "metadata": {
    "collapsed": true
   },
   "outputs": [],
   "source": [
    "props = clf.predict_proba(scaler.transform(X))[:,1]"
   ]
  },
  {
   "cell_type": "code",
   "execution_count": 13,
   "metadata": {
    "collapsed": true
   },
   "outputs": [],
   "source": [
    "features = [\"shop at SHOP 0\",\"shop at SHOP 2\",\n",
    "            \"shop at SHOP 1\",\"shop at SHOP 3\",\"shop at SHOP 4\",\n",
    "            \"% of transactions meals\",\"% of transactions lunchtime\",\n",
    "            \"weekly number of transactions\",\"healthiness score\"]\n",
    "\n",
    "importances_sorted, features_sorted = zip(*sorted(zip(clf.feature_importances_, features)))"
   ]
  },
  {
   "cell_type": "code",
   "execution_count": 45,
   "metadata": {},
   "outputs": [
    {
     "data": {
      "image/png": "[encoded data removed]",
      "text/plain": [
       "<Figure size 432x288 with 1 Axes>"
      ]
     },
     "metadata": {
      "needs_background": "light"
     },
     "output_type": "display_data"
    }
   ],
   "source": [
    "plt.barh(range(len(clf.feature_importances_)),importances_sorted, alpha = 0.7)\n",
    "plt.yticks(range(len(clf.feature_importances_)),features_sorted)\n",
    "plt.ylabel('Pre-treatment covariate')\n",
    "plt.xlabel('Feature importance')\n",
    "\n",
    "plt.savefig(\"fig_matching2.pdf\", bbox_inches='tight')"
   ]
  },
  {
   "cell_type": "code",
   "execution_count": 15,
   "metadata": {
    "collapsed": true
   },
   "outputs": [],
   "source": [
    "max_dist = max((malanhobis_dist))"
   ]
  },
  {
   "cell_type": "markdown",
   "metadata": {},
   "source": [
    "### c) build the bipartite graph to maximize similarity\n",
    "1. require exact match on shop and tretreatment h-score\n",
    "2. require propensity score to be within the calipher\n",
    "3. maximize similarity based on malanhobis distance on the remaining three features"
   ]
  },
  {
   "cell_type": "code",
   "execution_count": 16,
   "metadata": {},
   "outputs": [
    {
     "name": "stdout",
     "output_type": "stream",
     "text": [
      "500/5039\n",
      "1000/5039\n",
      "1500/5039\n",
      "2000/5039\n",
      "2500/5039\n",
      "3000/5039\n",
      "3500/5039\n",
      "4000/5039\n",
      "4500/5039\n",
      "5000/5039\n"
     ]
    }
   ],
   "source": [
    "count = 0\n",
    "\n",
    "#check the range of malanhobis distance, this is needed to convert distance to similarity\n",
    "malanhobis_dist = []\n",
    "\n",
    "#extract features control and treated used to fit propensities\n",
    "\n",
    "X_treated_high = []\n",
    "X_treated_low = []\n",
    "\n",
    "propensities = []\n",
    "\n",
    "G = nx.Graph()\n",
    "\n",
    "for i in range(len(df_participants_single)):\n",
    "\n",
    "    count +=1\n",
    "    if count % 500 == 0:\n",
    "        print(str(count)+'/'+str(len(df_participants_single)))\n",
    "    \n",
    "    \n",
    "    if df_participants_single.iloc[i][\"N\"]>=10 and df_participants_single.iloc[i][\"partner_score_pre_treatment\"] >= 0.05:\n",
    "\n",
    "\n",
    "        scores = df_participants_single.iloc[i][\"monthly_scores\"]\n",
    "\n",
    "        start = int(df_participants_single.iloc[i][\"start_treatment\"])\n",
    "\n",
    "        avg_pre = np.nanmean(scores[start-5:start+1])\n",
    "        avg_post = np.nanmean(scores[start+1:start+7])\n",
    "\n",
    "        months_pre = np.array(range(len(scores)))[start-5:start+1]\n",
    "        months_post = np.array(range(len(scores)))[start+1:start+7]\n",
    "\n",
    "        if np.isnan(avg_pre):\n",
    "            continue\n",
    "\n",
    "        if len(stats.mode([t[0] for t in df_participants_single.iloc[i][\"shops\"][start-5:start+1] if t[0]!=110], axis = None)[0]) == 0:\n",
    "            continue\n",
    "\n",
    "        shop_treated = stats.mode([t[0] for t in df_participants_single.iloc[i][\"shops\"][start-5:start+1] if t[0]!=110], axis = None)[0][0]\n",
    "\n",
    "\n",
    "        #filters\n",
    "        potential_controls = df_participants_single.loc[\n",
    "            #take into account everyone except for them\n",
    "            (df_participants_single[\"ID\"]!= df_participants_single.iloc[i][\"ID\"]) & \n",
    "            #find people that have the intervention in the same month\n",
    "            (df_participants_single[\"start_treatment\"] == start) &\n",
    "            #keep potential whose partner has negative score\n",
    "            (df_participants_single[\"partner_score_pre_treatment\"] <=-0.05) &\n",
    "            #and they also have tie\n",
    "            (df_participants_single[\"N\"] >=10) &\n",
    "            #and they made some purcahses in the same period\n",
    "            (~(df_participants_single[\"monthly_scores\"].apply(lambda x : x[start-5:start+1]).apply(np.nanmean).apply(np.isnan)))\n",
    "        ].copy(deep =True)\n",
    "\n",
    "\n",
    "        #do an exact match on the most frequent shop they go to\n",
    "        potential_controls = potential_controls.loc[potential_controls[\"shops\"] \\\n",
    "              .apply(lambda x : x[start-5:start+1]).apply(lambda x: stats.mode([t[0] for t in x if t[0]!=110], axis = None)[0][0])\n",
    "              .apply(lambda x: x == shop_treated)]\n",
    "\n",
    "        #do an exact match on the initial h-score\n",
    "        potential_controls = potential_controls.loc[potential_controls[\"monthly_scores\"] \\\n",
    "              .apply(lambda x : x[start-5:start+1]).apply(np.nanmean) \\\n",
    "              .apply(lambda x: np.absolute(avg_pre - x)<=0.2)]\n",
    "\n",
    "\n",
    "        if len(potential_controls)!=0:\n",
    "\n",
    "            #pre-treatment h-score for controls\n",
    "            h_scores = (potential_controls[\"monthly_scores\"].apply(lambda x : x[start-5:start+1]).apply(np.nanmean)).values\n",
    "\n",
    "            #pre-treatment percentage meals for controls\n",
    "            meals = (potential_controls[\"meals_percentage\"].apply(lambda x : x[start-5:start+1]).apply(np.nanmean)).values\n",
    "\n",
    "            #pre-treatment percentage lunchtime for controls\n",
    "            lunchtime = (potential_controls[\"lunchtime_percentage\"].apply(lambda x : x[start-5:start+1]).apply(np.nanmean)).values\n",
    "\n",
    "            #pre_treatment transactions per month for controls\n",
    "            number = (potential_controls[\"transactions_per_month\"].apply(lambda x : x[start-5:start+1]).apply(np.nanmean)).values\n",
    "\n",
    "            #pre_treatment most frequent shop for controls\n",
    "            shop = (potential_controls[\"shops\"].apply(lambda x : x[start-5:start+1]).apply(lambda x: stats.mode([t[0] for t in x if t[0]!=110], axis = None)[0][0])).values\n",
    "\n",
    "\n",
    "            X_c = np.concatenate((shop.reshape(len(h_scores),1),\n",
    "                               meals.reshape(len(h_scores),1),\n",
    "                               lunchtime.reshape(len(h_scores),1),\n",
    "                               number.reshape(len(h_scores),1),\n",
    "                               h_scores.reshape(len(h_scores),1)),axis = 1)\n",
    "\n",
    "            X_treated_low.append(X_c)\n",
    "\n",
    "            X_treated_high.append([shop_treated,np.nanmean(df_participants_single.iloc[i][\"meals_percentage\"][start-5:start+1]),\n",
    "                   np.nanmean(df_participants_single.iloc[i][\"lunchtime_percentage\"][start-5:start+1]),\n",
    "                   np.nanmean(df_participants_single.iloc[i][\"transactions_per_month\"][start-5:start+1]),\n",
    "                   avg_pre])\n",
    "\n",
    "\n",
    "            treated_index = df_participants_single.iloc[i][\"ID\"]\n",
    "            control_indices = potential_controls[\"ID\"].values   \n",
    "\n",
    "\n",
    "            t = [shop_treated,np.nanmean(df_participants_single.iloc[i][\"meals_percentage\"][start-5:start+1]),\n",
    "                   np.nanmean(df_participants_single.iloc[i][\"lunchtime_percentage\"][start-5:start+1]),\n",
    "                   np.nanmean(df_participants_single.iloc[i][\"transactions_per_month\"][start-5:start+1]),\n",
    "                   avg_pre]\n",
    "\n",
    "            t_encoded = np.concatenate((enc.transform(t[0].reshape(1, -1)).toarray()[0], t[1:]))         \n",
    "            propensities.append(clf.predict_proba(scaler.transform(t_encoded.reshape(1, -1)).reshape(1, -1))[0][1])\n",
    "            prop_t = clf.predict_proba(scaler.transform(t_encoded.reshape(1, -1)).reshape(1, -1))[0][1]\n",
    "\n",
    "\n",
    "            for cnt,c in enumerate(X_c):\n",
    "                c_encoded = np.concatenate((enc.transform(c[0].reshape(1, -1)).toarray()[0], c[1:]))         \n",
    "                propensities.append(clf.predict_proba(scaler.transform(c_encoded.reshape(1, -1)).reshape(1, -1))[0][1])\n",
    "                prop_c = clf.predict_proba(scaler.transform(c_encoded.reshape(1, -1)).reshape(1, -1))[0][1]\n",
    "\n",
    "                #only if within the calipher, create an edge\n",
    "                \n",
    "                if np.abs(prop_t - prop_c) < 0.1:\n",
    "                    G.add_weighted_edges_from([('c'+control_indices[cnt],'t'+treated_index,\n",
    "                                            1 - distance.mahalanobis(c[1:-1],np.array(X_treated_high[-1])[1:-1],VI) / max_dist)])\n"
   ]
  },
  {
   "cell_type": "code",
   "execution_count": 17,
   "metadata": {
    "collapsed": true
   },
   "outputs": [],
   "source": [
    "#maximize total similarity to find maximal matching\n",
    "matching = nx.max_weight_matching(G)"
   ]
  },
  {
   "cell_type": "markdown",
   "metadata": {},
   "source": [
    "### 5. Analysis of the quality of matching"
   ]
  },
  {
   "cell_type": "code",
   "execution_count": 18,
   "metadata": {},
   "outputs": [
    {
     "data": {
      "text/plain": [
       "415"
      ]
     },
     "execution_count": 18,
     "metadata": {},
     "output_type": "execute_result"
    }
   ],
   "source": [
    "#the 415 pairs of 830 matched focal persons\n",
    "len(matching)"
   ]
  },
  {
   "cell_type": "code",
   "execution_count": 19,
   "metadata": {
    "collapsed": true
   },
   "outputs": [],
   "source": [
    "# 415 persons who start eating with a person that has a healthy eating patters\n",
    "# are matched with 415 persons, undistinguishable up until the moment of onset\n",
    "# who, in the same month, start eating with a person that has an unhealthy eating pattern"
   ]
  },
  {
   "cell_type": "code",
   "execution_count": 20,
   "metadata": {
    "collapsed": true
   },
   "outputs": [],
   "source": [
    "matched_treated_high = []\n",
    "matched_treated_low = []\n",
    "\n",
    "for i in matching:\n",
    "    if str(i[1])[0] == 't':\n",
    "        matched_treated_high.append(str(i[1])[1:])\n",
    "        matched_treated_low.append(str(i[0])[1:])\n",
    "    else:\n",
    "        matched_treated_low.append(str(i[1])[1:])\n",
    "        matched_treated_high.append(str(i[0])[1:])\n",
    "\n",
    "diff = []\n",
    "Ns = []\n",
    "\n",
    "s_t = []\n",
    "s_c = []\n",
    "\n",
    "s_t_post = []\n",
    "s_c_post = []\n",
    "\n",
    "n_t = []\n",
    "n_c = []\n",
    "\n",
    "l_t = []\n",
    "l_c = []\n",
    "\n",
    "m_t = []\n",
    "m_c = []\n",
    "\n",
    "partner_low = []\n",
    "partner_high = []\n",
    "\n",
    "\n",
    "partner_pre_score = []\n",
    "\n",
    "for i in range(len(matching)):\n",
    "    scores_t = df_participants_single.loc[df_participants_single[\"ID\"] == matched_treated_high[i]][\"monthly_scores\"].iloc[0]\n",
    "    lunch_t = df_participants_single.loc[df_participants_single[\"ID\"] == matched_treated_high[i]][\"lunchtime_percentage\"].iloc[0]\n",
    "    meals_t = df_participants_single.loc[df_participants_single[\"ID\"] == matched_treated_high[i]][\"meals_percentage\"].iloc[0]\n",
    "    number_t = df_participants_single.loc[df_participants_single[\"ID\"] == matched_treated_high[i]][\"transactions_per_month\"].iloc[0]\n",
    "    \n",
    "    scores_c = df_participants_single.loc[df_participants_single[\"ID\"] == matched_treated_low[i]][\"monthly_scores\"].iloc[0]\n",
    "    lunch_c = df_participants_single.loc[df_participants_single[\"ID\"] == matched_treated_low[i]][\"lunchtime_percentage\"].iloc[0]\n",
    "    meals_c = df_participants_single.loc[df_participants_single[\"ID\"] == matched_treated_low[i]][\"meals_percentage\"].iloc[0]\n",
    "    number_c = df_participants_single.loc[df_participants_single[\"ID\"] == matched_treated_low[i]][\"transactions_per_month\"].iloc[0]\n",
    "    \n",
    "    \n",
    "    start = int(df_participants_single.loc[df_participants_single[\"ID\"] == matched_treated_high[i]][\"start_treatment\"])\n",
    "    \n",
    "    \n",
    "    s_t.append(np.nanmean(scores_t[:start+1]))\n",
    "    s_c.append(np.nanmean(scores_c[:start+1]))\n",
    "    \n",
    "    s_t_post.append(np.nanmean(scores_t[start+1:start+13]))\n",
    "    s_c_post.append(np.nanmean(scores_c[start+1:start+13]))\n",
    "\n",
    "    l_t.append(np.nanmean(lunch_t[:start+1]))\n",
    "    l_c.append(np.nanmean(lunch_c[:start+1]))\n",
    "    \n",
    "    m_t.append(np.nanmean(meals_t[:start+1]))\n",
    "    m_c.append(np.nanmean(meals_c[:start+1]))\n",
    "    \n",
    "    n_t.append(np.nanmean(number_t[:start+1]))\n",
    "    n_c.append(np.nanmean(number_c[:start+1]))\n",
    "    \n",
    "    partner_low.append(df_participants_single.loc[df_participants_single[\"ID\"] == matched_treated_low[i]][\"partner_score_pre_treatment\"].iloc[0])\n",
    "    partner_high.append(df_participants_single.loc[df_participants_single[\"ID\"] == matched_treated_high[i]][\"partner_score_pre_treatment\"].iloc[0])\n",
    "    \n",
    "\n",
    "    Ns.append(df_participants_single.loc[df_participants_single[\"ID\"] == matched_treated_high[i]][\"N\"].iloc[0])\n",
    "c_pre = s_c\n",
    "t_pre = s_t\n",
    "c_post = s_c_post\n",
    "t_post = s_t_post"
   ]
  },
  {
   "cell_type": "code",
   "execution_count": 46,
   "metadata": {},
   "outputs": [
    {
     "data": {
      "image/png": "[encoded data removed]",
      "text/plain": [
       "<Figure size 432x288 with 1 Axes>"
      ]
     },
     "metadata": {
      "needs_background": "light"
     },
     "output_type": "display_data"
    }
   ],
   "source": [
    "ns, bins, patches = plt.hist(Ns, range = [10,150], bins = 7)\n",
    "plt.close()\n",
    "\n",
    "plt.bar(range(len(ns)),ns, alpha = 0.7)\n",
    "plt.xticks(range(len(bins)))\n",
    "plt.yscale('log')\n",
    "plt.xticks(np.array(range(len(bins)))-0.5,[str(i)[:-2] for i in bins])\n",
    "plt.yticks([1,10,100,1000],[1,10,100,1000]);\n",
    "\n",
    "plt.xlabel('Number of high confidence indicators\\nof eating together with the partner')\n",
    "plt.ylabel('Number of matched persons \\n(N=830)')\n",
    "\n",
    "plt.savefig(\"fig_matching3.pdf\", bbox_inches='tight')"
   ]
  },
  {
   "cell_type": "code",
   "execution_count": 47,
   "metadata": {},
   "outputs": [
    {
     "data": {
      "image/png": "[encoded data removed]",
      "text/plain": [
       "<Figure size 432x288 with 1 Axes>"
      ]
     },
     "metadata": {
      "needs_background": "light"
     },
     "output_type": "display_data"
    }
   ],
   "source": [
    "plt.hist(partner_low, range = [-1,1], bins = 21, alpha = 0.7)\n",
    "plt.hist(partner_high, range = [-1,1], bins = 21, alpha = 0.7)\n",
    "plt.vlines(0.05,0,120, linestyle = '--')\n",
    "plt.vlines(-0.05,0,120, linestyle = '--')\n",
    "plt.ylim([0,120])\n",
    "\n",
    "plt.xlabel('Partner\\'s pre-treatment healthiness score')\n",
    "plt.ylabel('Number of matched persons \\n(N=830)')\n",
    "\n",
    "plt.savefig(\"fig_matching4.pdf\", bbox_inches='tight')"
   ]
  },
  {
   "cell_type": "code",
   "execution_count": 23,
   "metadata": {
    "collapsed": true
   },
   "outputs": [],
   "source": [
    "def SMD(treated_vec, control_vec):\n",
    "    pos_mean = np.nanmean(treated_vec)\n",
    "    neg_mean = np.nanmean(control_vec)\n",
    "\n",
    "    pos_std = np.std(treated_vec)\n",
    "    neg_std = np.std(control_vec)\n",
    "    smd = (pos_mean - neg_mean) / np.sqrt((pos_std ** 2 + neg_std ** 2) / 2)\n",
    "    \n",
    "    return round(abs(smd), 4)"
   ]
  },
  {
   "cell_type": "code",
   "execution_count": 24,
   "metadata": {
    "collapsed": true
   },
   "outputs": [],
   "source": [
    "X_treated_high = np.array(X_treated_high)\n",
    "X_treated_low = np.array(X_treated_low)"
   ]
  },
  {
   "cell_type": "code",
   "execution_count": 25,
   "metadata": {
    "collapsed": true
   },
   "outputs": [],
   "source": [
    "features = [\"% of transactions meals\",\"% of transactions lunchtime\",\n",
    "            \"weekly number of transactions\",\"healthiness score\"]\n"
   ]
  },
  {
   "cell_type": "markdown",
   "metadata": {},
   "source": [
    "### SMD before matching"
   ]
  },
  {
   "cell_type": "code",
   "execution_count": 27,
   "metadata": {},
   "outputs": [
    {
     "name": "stdout",
     "output_type": "stream",
     "text": [
      "1\n",
      "0.2073\n",
      "\n",
      "\n",
      "2\n",
      "0.1095\n",
      "\n",
      "\n",
      "3\n",
      "0.0707\n",
      "\n",
      "\n",
      "4\n",
      "0.3009\n",
      "\n",
      "\n"
     ]
    }
   ],
   "source": [
    "#1 - meals\n",
    "#2 - lunchtime\n",
    "#3 - number of transactions\n",
    "#4 - healthiness score\n",
    "\n",
    "\n",
    "for i in range(1,5):\n",
    "    print(i)\n",
    "    print(SMD(np.concatenate(X_treated_low,axis = 0)[:,i],np.array(X_treated_high)[:,i] ))\n",
    "    print('\\n')"
   ]
  },
  {
   "cell_type": "markdown",
   "metadata": {},
   "source": [
    "### SMD after matching"
   ]
  },
  {
   "cell_type": "code",
   "execution_count": 28,
   "metadata": {},
   "outputs": [
    {
     "name": "stdout",
     "output_type": "stream",
     "text": [
      "0.0223\n",
      "0.0453\n",
      "0.075\n",
      "0.0235\n"
     ]
    }
   ],
   "source": [
    "print(SMD(s_c,s_t))\n",
    "print(SMD(l_c,l_t))\n",
    "print(SMD(m_c,m_t))\n",
    "print(SMD(n_c,n_t))"
   ]
  }
 ],
 "metadata": {
  "kernelspec": {
   "display_name": "Python 3",
   "language": "python",
   "name": "python3"
  },
  "language_info": {
   "codemirror_mode": {
    "name": "ipython",
    "version": 3
   },
   "file_extension": ".py",
   "mimetype": "text/x-python",
   "name": "python",
   "nbconvert_exporter": "python",
   "pygments_lexer": "ipython3",
   "version": "3.6.3"
  },
  "varInspector": {
   "cols": {
    "lenName": 16,
    "lenType": 16,
    "lenVar": 40
   },
   "kernels_config": {
    "python": {
     "delete_cmd_postfix": "",
     "delete_cmd_prefix": "del ",
     "library": "var_list.py",
     "varRefreshCmd": "print(var_dic_list())"
    },
    "r": {
     "delete_cmd_postfix": ") ",
     "delete_cmd_prefix": "rm(",
     "library": "var_list.r",
     "varRefreshCmd": "cat(var_dic_list()) "
    }
   },
   "types_to_exclude": [
    "module",
    "function",
    "builtin_function_or_method",
    "instance",
    "_Feature"
   ],
   "window_display": false
  }
 },
 "nbformat": 4,
 "nbformat_minor": 4
}
