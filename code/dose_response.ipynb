{
 "cells": [
  {
   "cell_type": "code",
   "execution_count": 1,
   "metadata": {
    "collapsed": true
   },
   "outputs": [],
   "source": [
    "import pandas as pd\n",
    "import sqlite3 as sq\n",
    "import numpy as np\n",
    "import matplotlib.pyplot as plt\n",
    "import seaborn as sns\n",
    "import warnings, re\n",
    "import nltk\n",
    "from IPython.display import Image\n",
    "import datetime\n",
    "from collections import Counter\n",
    "warnings.filterwarnings('ignore')\n",
    "%matplotlib inline\n",
    "pd.set_option('display.max_columns', 500)\n",
    "pd.set_option('display.max_rows', 1000)\n",
    "from sklearn.decomposition import NMF\n",
    "from scipy import stats\n",
    "from sklearn.metrics import explained_variance_score\n",
    "from pylab import rcParams\n",
    "from collections import Counter\n",
    "import scipy as sp\n",
    "from scipy.spatial import distance\n",
    "from sklearn.preprocessing import OneHotEncoder\n",
    "from sklearn.linear_model import LogisticRegression\n",
    "from sklearn import preprocessing\n",
    "import networkx as nx\n",
    "from sklearn import metrics\n",
    "from sklearn.metrics import precision_recall_fscore_support\n",
    "from sklearn.preprocessing import StandardScaler\n",
    "from sklearn.tree import DecisionTreeClassifier\n",
    "from sklearn.ensemble import RandomForestClassifier\n",
    "import statsmodels.formula.api as smf\n",
    "from sklearn.linear_model import LogisticRegression\n",
    "from sklearn import preprocessing\n",
    "import networkx as nx\n",
    "from sklearn import metrics\n",
    "from sklearn.metrics import precision_recall_fscore_support\n",
    "from sklearn.preprocessing import StandardScaler\n",
    "\n",
    "from scipy.stats import ttest_ind\n",
    "from scipy.stats import ks_2samp\n",
    "from statsmodels.stats.contingency_tables import mcnemar\n",
    "from scipy.stats import fisher_exact"
   ]
  },
  {
   "cell_type": "code",
   "execution_count": 2,
   "metadata": {
    "collapsed": true
   },
   "outputs": [],
   "source": [
    "#CI helpers\n",
    "\n",
    "def lower_error(data):\n",
    "\tnbr_draws = 1000\n",
    "\tmeans = np.zeros(nbr_draws)\n",
    "\tdata = np.array(data)\n",
    "\n",
    "\tfor n in range(nbr_draws):\n",
    "\t\tindices = np.random.randint(0, len(data), len(data))\n",
    "\t\tdata_tmp = data[indices] \n",
    "\t\tmeans[n] = np.nanmean(data_tmp)\n",
    "\n",
    "\treturn np.nanpercentile(means, 2.5)\n",
    "\n",
    "def upper_error(data):\n",
    "\tnbr_draws = 1000\n",
    "\tmeans = np.zeros(nbr_draws)\n",
    "\tdata = np.array(data)\n",
    "\n",
    "\tfor n in range(nbr_draws):\n",
    "\t    indices = np.random.randint(0, len(data), len(data))\n",
    "\t    data_tmp = data[indices] \n",
    "\t    means[n] = np.nanmean(data_tmp)\n",
    "\n",
    "\treturn np.nanpercentile(means, 97.5)\n",
    "\n",
    "\n",
    "def bootstrap_CI(data, nbr_draws):\n",
    "    means = np.zeros(nbr_draws)\n",
    "    data = np.array(data)\n",
    "\n",
    "    for n in range(nbr_draws):\n",
    "        indices = np.random.randint(0, len(data), len(data))\n",
    "        data_tmp = data[indices] \n",
    "        means[n] = np.nanmean(data_tmp)\n",
    "\n",
    "    return [np.nanpercentile(means, 2.5),np.nanpercentile(means, 97.5)]"
   ]
  },
  {
   "cell_type": "code",
   "execution_count": 3,
   "metadata": {
    "collapsed": true
   },
   "outputs": [],
   "source": [
    "pairs = pd.read_pickle('new_pairs_all_rests')\n",
    "\n",
    "df_pairs_frequencies = pd.DataFrame(pd.Series(pairs.index).apply(lambda x: x.split(' ')))\n",
    "df_pairs_frequencies['frequency'] = pairs.values\n",
    "\n",
    "cohort = df_pairs_frequencies.loc[(df_pairs_frequencies['frequency']>= 10)].copy() \n",
    "\n",
    "cohort.columns = ['pair','frequency']\n",
    "\n",
    "tmp = cohort['frequency'].values\n",
    "\n",
    "Ns = []\n",
    "for i in tmp:\n",
    "    Ns.extend([i, i])\n",
    "\n",
    "df_participants = pd.read_pickle(\"df_focal_persons.pkl\")\n",
    "#isolate those who have a single eating partner\n",
    "df_participants['N'] = Ns\n",
    "df_participants_single = df_participants.groupby(\"ID\").filter(lambda x: len(x) == 1)"
   ]
  },
  {
   "cell_type": "code",
   "execution_count": 4,
   "metadata": {
    "collapsed": true
   },
   "outputs": [],
   "source": [
    "import ast\n",
    "with open('matched_persons.txt','r') as f:\n",
    "    matching = ast.literal_eval(f.read())\n",
    "    \n",
    "matched_treated_high = []\n",
    "matched_treated_low = []\n",
    "\n",
    "for i in matching:\n",
    "    if str(i[1])[0] == 't':\n",
    "        matched_treated_high.append(str(i[1])[1:])\n",
    "        matched_treated_low.append(str(i[0])[1:])\n",
    "    else:\n",
    "        matched_treated_low.append(str(i[1])[1:])\n",
    "        matched_treated_high.append(str(i[0])[1:])"
   ]
  },
  {
   "cell_type": "code",
   "execution_count": 5,
   "metadata": {},
   "outputs": [
    {
     "data": {
      "text/plain": [
       "415"
      ]
     },
     "execution_count": 5,
     "metadata": {},
     "output_type": "execute_result"
    }
   ],
   "source": [
    "len(matched_treated_low)"
   ]
  },
  {
   "cell_type": "code",
   "execution_count": 6,
   "metadata": {
    "collapsed": true
   },
   "outputs": [],
   "source": [
    "diff = []\n",
    "Ns_c = []\n",
    "Ns_t = []\n",
    "\n",
    "s_t = []\n",
    "s_c = []\n",
    "\n",
    "s_t_post = []\n",
    "s_c_post = []\n",
    "\n",
    "n_t = []\n",
    "n_c = []\n",
    "\n",
    "l_t = []\n",
    "l_c = []\n",
    "\n",
    "m_t = []\n",
    "m_c = []\n",
    "\n",
    "partner_low = []\n",
    "partner_high = []\n",
    "\n",
    "\n",
    "partner_pre_score = []\n",
    "\n",
    "\n",
    "\n",
    "delta_partners = []\n",
    "\n",
    "te_post = []\n",
    "te = []\n",
    "\n",
    "\n",
    "list_entries = []\n",
    "for i in range(len(matching)):\n",
    "    \n",
    "    pl = df_participants_single.loc[df_participants_single[\"ID\"] == matched_treated_low[i]][\"partner_score_pre_treatment\"].iloc[0]\n",
    "    ph = df_participants_single.loc[df_participants_single[\"ID\"] == matched_treated_high[i]][\"partner_score_pre_treatment\"].iloc[0]\n",
    "    delta_partners.append(ph - pl)\n",
    "    \n",
    "    \n",
    "    \n",
    "    scores_t = df_participants_single.loc[df_participants_single[\"ID\"] == matched_treated_high[i]][\"monthly_scores\"].iloc[0]\n",
    "    lunch_t = df_participants_single.loc[df_participants_single[\"ID\"] == matched_treated_high[i]][\"lunchtime_percentage\"].iloc[0]\n",
    "    meals_t = df_participants_single.loc[df_participants_single[\"ID\"] == matched_treated_high[i]][\"meals_percentage\"].iloc[0]\n",
    "    number_t = df_participants_single.loc[df_participants_single[\"ID\"] == matched_treated_high[i]][\"transactions_per_month\"].iloc[0]\n",
    "    \n",
    "    scores_c = df_participants_single.loc[df_participants_single[\"ID\"] == matched_treated_low[i]][\"monthly_scores\"].iloc[0]\n",
    "    lunch_c = df_participants_single.loc[df_participants_single[\"ID\"] == matched_treated_low[i]][\"lunchtime_percentage\"].iloc[0]\n",
    "    meals_c = df_participants_single.loc[df_participants_single[\"ID\"] == matched_treated_low[i]][\"meals_percentage\"].iloc[0]\n",
    "    number_c = df_participants_single.loc[df_participants_single[\"ID\"] == matched_treated_low[i]][\"transactions_per_month\"].iloc[0]\n",
    "    \n",
    "    \n",
    "    start = int(df_participants_single.loc[df_participants_single[\"ID\"] == matched_treated_high[i]][\"start_treatment\"])\n",
    "    \n",
    "    \n",
    "    \n",
    "    s_t.append(np.nanmean(scores_t[:start+1]))\n",
    "    s_c.append(np.nanmean(scores_c[:start+1]))\n",
    "    \n",
    "    s_t_post.append(np.nanmean(scores_t[start+1:start+7]))\n",
    "    s_c_post.append(np.nanmean(scores_c[start+1:start+7]))\n",
    "\n",
    "    entry = {}\n",
    "    entry[\"partner\"] = 'h'\n",
    "    entry[\"period\"] = 'post'\n",
    "    entry[\"score\"] = np.nanmean(scores_t[start+1:start+7])\n",
    "\n",
    "    list_entries.append(entry)\n",
    "    \n",
    "    entry = {}\n",
    "    entry[\"partner\"] = 'h'\n",
    "    entry[\"period\"] = 'pre'\n",
    "    entry[\"score\"] = np.nanmean(scores_t[:start+1])\n",
    "\n",
    "    list_entries.append(entry)\n",
    "\n",
    "    entry = {}\n",
    "    entry[\"partner\"] = 'l'\n",
    "    entry[\"period\"] = 'post'\n",
    "    entry[\"score\"] = (np.nanmean(scores_c[start+1:start+7]))\n",
    "                                \n",
    "    list_entries.append(entry)\n",
    "    entry = {}\n",
    "    entry[\"partner\"] = 'l'\n",
    "    entry[\"period\"] = 'pre'\n",
    "    entry[\"score\"] = np.nanmean(scores_c[:start+1])\n",
    "\n",
    "    list_entries.append(entry)\n",
    "    \n",
    "    te_post.append(np.nanmean(scores_t[start+1:start+7]) - np.nanmean(scores_c[start+1:start+7]))\n",
    "    te.append((np.nanmean(scores_t[start+1:start+7]) - np.nanmean(scores_t[:start+1]) ) - (np.nanmean(scores_c[start+1:start+7]) - np.nanmean(scores_c[:start+1]) ))\n",
    "    "
   ]
  },
  {
   "cell_type": "code",
   "execution_count": 7,
   "metadata": {
    "collapsed": true
   },
   "outputs": [],
   "source": [
    "df = pd.DataFrame(list_entries)"
   ]
  },
  {
   "cell_type": "code",
   "execution_count": 8,
   "metadata": {
    "collapsed": true
   },
   "outputs": [],
   "source": [
    "mod = smf.ols(formula=\"Q('score') ~ C(partner,Treatment(reference='l'))*C(period,Treatment(reference='pre'))\",data=df)"
   ]
  },
  {
   "cell_type": "code",
   "execution_count": 9,
   "metadata": {
    "collapsed": true
   },
   "outputs": [],
   "source": [
    "res = mod.fit()"
   ]
  },
  {
   "cell_type": "code",
   "execution_count": 10,
   "metadata": {},
   "outputs": [
    {
     "name": "stdout",
     "output_type": "stream",
     "text": [
      "Intercept                                                                                 -0.075587\n",
      "C(partner, Treatment(reference='l'))[T.h]                                                  0.005487\n",
      "C(period, Treatment(reference='pre'))[T.post]                                             -0.010989\n",
      "C(partner, Treatment(reference='l'))[T.h]:C(period, Treatment(reference='pre'))[T.post]    0.051398\n",
      "dtype: float64\n"
     ]
    }
   ],
   "source": [
    "print(res.params)"
   ]
  },
  {
   "cell_type": "code",
   "execution_count": 11,
   "metadata": {},
   "outputs": [
    {
     "name": "stdout",
     "output_type": "stream",
     "text": [
      "0.05139809838364151\n"
     ]
    }
   ],
   "source": [
    "print(res.params[\"C(partner, Treatment(reference='l'))[T.h]:C(period, Treatment(reference='pre'))[T.post]\"])"
   ]
  },
  {
   "cell_type": "code",
   "execution_count": 12,
   "metadata": {},
   "outputs": [
    {
     "name": "stdout",
     "output_type": "stream",
     "text": [
      "0.02576565037572476 0.07703054639155826\n"
     ]
    }
   ],
   "source": [
    "st_err = res.bse[\"C(partner, Treatment(reference='l'))[T.h]:C(period, Treatment(reference='pre'))[T.post]\"]\n",
    "\n",
    "\n",
    "print(res.params[\"C(partner, Treatment(reference='l'))[T.h]:C(period, Treatment(reference='pre'))[T.post]\"] - 2*st_err,\n",
    "     res.params[\"C(partner, Treatment(reference='l'))[T.h]:C(period, Treatment(reference='pre'))[T.post]\"] + 2*st_err,)"
   ]
  },
  {
   "cell_type": "code",
   "execution_count": 13,
   "metadata": {
    "collapsed": true
   },
   "outputs": [],
   "source": [
    "n, binc,patches = plt.hist(delta_partners, range = [0.1,2], bins = [0.1,0.4,0.7,1,1.3,1.6,2]);\n",
    "plt.close()"
   ]
  },
  {
   "cell_type": "code",
   "execution_count": 14,
   "metadata": {},
   "outputs": [
    {
     "data": {
      "text/plain": [
       "415.0"
      ]
     },
     "execution_count": 14,
     "metadata": {},
     "output_type": "execute_result"
    }
   ],
   "source": [
    "sum(n)"
   ]
  },
  {
   "cell_type": "code",
   "execution_count": 15,
   "metadata": {},
   "outputs": [
    {
     "data": {
      "text/plain": [
       "415"
      ]
     },
     "execution_count": 15,
     "metadata": {},
     "output_type": "execute_result"
    }
   ],
   "source": [
    "len(te)"
   ]
  },
  {
   "cell_type": "code",
   "execution_count": 16,
   "metadata": {
    "collapsed": true
   },
   "outputs": [],
   "source": [
    "df_dose = pd.DataFrame()\n",
    "df_dose[\"delta_partners\"] = delta_partners\n",
    "df_dose[\"te\"] = te"
   ]
  },
  {
   "cell_type": "code",
   "execution_count": 17,
   "metadata": {
    "collapsed": true
   },
   "outputs": [],
   "source": [
    "df_dose = df_dose.dropna()"
   ]
  },
  {
   "cell_type": "code",
   "execution_count": 22,
   "metadata": {
    "collapsed": true
   },
   "outputs": [],
   "source": [
    "bins = [0,0.2,0.4,0.6,0.8,1,1.2,1.4,1.6,1.8,2]"
   ]
  },
  {
   "cell_type": "code",
   "execution_count": 25,
   "metadata": {
    "collapsed": true
   },
   "outputs": [],
   "source": [
    "bins = [0,0.2,0.4,0.6,0.8,1,1.2,1.4,1.6,1.8,2]\n",
    "labels = list(range(len(bins)-1))\n",
    "df_dose['delta_binned'] = pd.cut(df_dose['delta_partners'], bins=bins, labels=labels)\n",
    "\n",
    "\n",
    "stats_by_bin = df_dose.groupby(df_dose['delta_binned']).apply(lambda x: pd.Series({\n",
    "        'average': x['te'].mean(),\n",
    "        'lower_err': bootstrap_CI(x['te'], 1000)[0],\n",
    "        'upper_err': bootstrap_CI(x['te'], 1000)[1],\n",
    "        'counts': len(x)\n",
    "    }))\n",
    "\n"
   ]
  },
  {
   "cell_type": "code",
   "execution_count": 26,
   "metadata": {
    "collapsed": true
   },
   "outputs": [],
   "source": [
    "import matplotlib.pyplot as plt\n",
    "plt.rcParams.update({'font.size': 12})"
   ]
  },
  {
   "cell_type": "code",
   "execution_count": 27,
   "metadata": {
    "collapsed": true
   },
   "outputs": [],
   "source": [
    "import matplotlib\n",
    "matplotlib.rcParams['pdf.fonttype'] = 42\n",
    "matplotlib.rcParams['ps.fonttype'] = 42"
   ]
  },
  {
   "cell_type": "code",
   "execution_count": 28,
   "metadata": {},
   "outputs": [
    {
     "data": {
      "image/png": "[encoded data removed]",
      "text/plain": [
       "<Figure size 360x216 with 1 Axes>"
      ]
     },
     "metadata": {
      "needs_background": "light"
     },
     "output_type": "display_data"
    }
   ],
   "source": [
    "fig, axs = plt.subplots(1,1,figsize = (5,3))\n",
    "\n",
    "\n",
    "axs.fill_between(stats_by_bin.index, stats_by_bin.lower_err,\n",
    "                 stats_by_bin.upper_err, alpha = 0.5, color = 'tab:blue')\n",
    "axs.plot(stats_by_bin.average, color = 'black')\n",
    "axs.plot(stats_by_bin.index, stats_by_bin.average, linestyle = 'none', \n",
    "         marker = 'o', markersize= 3,color = 'black')\n",
    "\n",
    "axs.hlines(0,-1,len(bins)-1, linestyle = '--')\n",
    "\n",
    "axs.set_xticks(labels)\n",
    "axs.set_xticklabels([str(i)[:3] for i in np.array(bins)+0.1])\n",
    "axs.set_xlim([-1,len(bins)-1])\n",
    "axs.set_ylim([-0.6,0.6])\n",
    "axs.set_ylabel('Difference in difference effect \\nestimate, healthiness score')\n",
    "\n",
    "axs.set_xlabel('The difference in pre-treatment scores\\n of partners in a matched pair')\n",
    "\n",
    "plt.savefig(\"doseresponsea.pdf\", bbox_inches='tight')"
   ]
  },
  {
   "cell_type": "code",
   "execution_count": 29,
   "metadata": {},
   "outputs": [
    {
     "data": {
      "image/png": "[encoded data removed]",
      "text/plain": [
       "<Figure size 360x216 with 1 Axes>"
      ]
     },
     "metadata": {
      "needs_background": "light"
     },
     "output_type": "display_data"
    }
   ],
   "source": [
    "fig, axs = plt.subplots(1,1,figsize = (5,3))\n",
    "\n",
    "\n",
    "\n",
    "axs.set_xticks(labels)\n",
    "axs.set_xticklabels([str(i)[:3] for i in np.array(bins)+0.1])\n",
    "\n",
    "axs.set_xlabel('The difference in pre-treatment scores\\n of partners in a matched pair')\n",
    "\n",
    "\n",
    "axs.set_ylabel('Number of matched \\n pairs of focal persons')\n",
    "\n",
    "\n",
    "axs.bar(stats_by_bin.index, stats_by_bin.counts,\n",
    "           alpha = 0.7, color = 'gray')\n",
    "\n",
    "plt.savefig(\"doseresponseb.pdf\", bbox_inches='tight')"
   ]
  }
 ],
 "metadata": {
  "celltoolbar": "Raw Cell Format",
  "kernelspec": {
   "display_name": "Python 3",
   "language": "python",
   "name": "python3"
  },
  "language_info": {
   "codemirror_mode": {
    "name": "ipython",
    "version": 3
   },
   "file_extension": ".py",
   "mimetype": "text/x-python",
   "name": "python",
   "nbconvert_exporter": "python",
   "pygments_lexer": "ipython3",
   "version": "3.6.3"
  },
  "varInspector": {
   "cols": {
    "lenName": 16,
    "lenType": 16,
    "lenVar": 40
   },
   "kernels_config": {
    "python": {
     "delete_cmd_postfix": "",
     "delete_cmd_prefix": "del ",
     "library": "var_list.py",
     "varRefreshCmd": "print(var_dic_list())"
    },
    "r": {
     "delete_cmd_postfix": ") ",
     "delete_cmd_prefix": "rm(",
     "library": "var_list.r",
     "varRefreshCmd": "cat(var_dic_list()) "
    }
   },
   "types_to_exclude": [
    "module",
    "function",
    "builtin_function_or_method",
    "instance",
    "_Feature"
   ],
   "window_display": false
  }
 },
 "nbformat": 4,
 "nbformat_minor": 4
}
